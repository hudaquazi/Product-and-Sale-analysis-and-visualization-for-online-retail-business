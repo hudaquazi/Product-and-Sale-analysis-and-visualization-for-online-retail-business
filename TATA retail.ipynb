{
 "cells": [
  {
   "cell_type": "markdown",
   "id": "3ab7e499",
   "metadata": {},
   "source": [
    "# ANALYSIS: ONLINE RETAIL"
   ]
  },
  {
   "cell_type": "markdown",
   "id": "5c5a9e4e",
   "metadata": {},
   "source": [
    "## STEP 1: Ask"
   ]
  },
  {
   "cell_type": "markdown",
   "id": "24f7d6c5",
   "metadata": {},
   "source": [
    "1. Which region is generating the highest revenue, and which region is generating the lowest?\n",
    "2. What is the monthly trend of revenue, which months have faced the biggest increase/decrease?\n",
    "3. Which months generated the most revenue? Is there a seasonality in sales?\n",
    "4. Who are the top customers and how much do they contribute to the total revenue? Is the business dependent on these customers or is the customer base diversified?\n",
    "5. What is the percentage of customers who are repeating their orders?\n",
    "6. What are the most popular products in terms of quantity sold out? \n",
    "7. What is the most popular product based on sales (amount)?\n",
    "8. Which customers spend the most?\n",
    "9. What revenue is being generated from the customers who have ordered more than once?"
   ]
  },
  {
   "cell_type": "markdown",
   "id": "9afb8738",
   "metadata": {},
   "source": [
    "**Import libraries**"
   ]
  },
  {
   "cell_type": "code",
   "execution_count": 1,
   "id": "bba63046",
   "metadata": {},
   "outputs": [],
   "source": [
    "#Operational libraries\n",
    "import numpy as np\n",
    "import pandas as pd\n",
    "\n",
    "#visualization libraries\n",
    "import matplotlib.pyplot as plt\n",
    "import seaborn as sns"
   ]
  },
  {
   "cell_type": "code",
   "execution_count": 2,
   "id": "1b95e38a",
   "metadata": {},
   "outputs": [],
   "source": [
    "#read data and convert the .csv file into dataframe\n",
    "df = pd.read_csv('TATA online retail - Online Retail.csv')"
   ]
  },
  {
   "cell_type": "code",
   "execution_count": 3,
   "id": "8909e42f",
   "metadata": {},
   "outputs": [
    {
     "data": {
      "text/html": [
       "<div>\n",
       "<style scoped>\n",
       "    .dataframe tbody tr th:only-of-type {\n",
       "        vertical-align: middle;\n",
       "    }\n",
       "\n",
       "    .dataframe tbody tr th {\n",
       "        vertical-align: top;\n",
       "    }\n",
       "\n",
       "    .dataframe thead th {\n",
       "        text-align: right;\n",
       "    }\n",
       "</style>\n",
       "<table border=\"1\" class=\"dataframe\">\n",
       "  <thead>\n",
       "    <tr style=\"text-align: right;\">\n",
       "      <th></th>\n",
       "      <th>InvoiceNo</th>\n",
       "      <th>StockCode</th>\n",
       "      <th>Description</th>\n",
       "      <th>Quantity</th>\n",
       "      <th>InvoiceDate</th>\n",
       "      <th>UnitPrice</th>\n",
       "      <th>CustomerID</th>\n",
       "      <th>Country</th>\n",
       "    </tr>\n",
       "  </thead>\n",
       "  <tbody>\n",
       "    <tr>\n",
       "      <th>0</th>\n",
       "      <td>536365</td>\n",
       "      <td>85123A</td>\n",
       "      <td>WHITE HANGING HEART T-LIGHT HOLDER</td>\n",
       "      <td>6</td>\n",
       "      <td>12/1/10 8:26</td>\n",
       "      <td>2.55</td>\n",
       "      <td>17850.0</td>\n",
       "      <td>United Kingdom</td>\n",
       "    </tr>\n",
       "    <tr>\n",
       "      <th>1</th>\n",
       "      <td>536365</td>\n",
       "      <td>71053</td>\n",
       "      <td>WHITE METAL LANTERN</td>\n",
       "      <td>6</td>\n",
       "      <td>12/1/10 8:26</td>\n",
       "      <td>3.39</td>\n",
       "      <td>17850.0</td>\n",
       "      <td>United Kingdom</td>\n",
       "    </tr>\n",
       "    <tr>\n",
       "      <th>2</th>\n",
       "      <td>536365</td>\n",
       "      <td>84406B</td>\n",
       "      <td>CREAM CUPID HEARTS COAT HANGER</td>\n",
       "      <td>8</td>\n",
       "      <td>12/1/10 8:26</td>\n",
       "      <td>2.75</td>\n",
       "      <td>17850.0</td>\n",
       "      <td>United Kingdom</td>\n",
       "    </tr>\n",
       "    <tr>\n",
       "      <th>3</th>\n",
       "      <td>536365</td>\n",
       "      <td>84029G</td>\n",
       "      <td>KNITTED UNION FLAG HOT WATER BOTTLE</td>\n",
       "      <td>6</td>\n",
       "      <td>12/1/10 8:26</td>\n",
       "      <td>3.39</td>\n",
       "      <td>17850.0</td>\n",
       "      <td>United Kingdom</td>\n",
       "    </tr>\n",
       "    <tr>\n",
       "      <th>4</th>\n",
       "      <td>536365</td>\n",
       "      <td>84029E</td>\n",
       "      <td>RED WOOLLY HOTTIE WHITE HEART.</td>\n",
       "      <td>6</td>\n",
       "      <td>12/1/10 8:26</td>\n",
       "      <td>3.39</td>\n",
       "      <td>17850.0</td>\n",
       "      <td>United Kingdom</td>\n",
       "    </tr>\n",
       "    <tr>\n",
       "      <th>5</th>\n",
       "      <td>536365</td>\n",
       "      <td>22752</td>\n",
       "      <td>SET 7 BABUSHKA NESTING BOXES</td>\n",
       "      <td>2</td>\n",
       "      <td>12/1/10 8:26</td>\n",
       "      <td>7.65</td>\n",
       "      <td>17850.0</td>\n",
       "      <td>United Kingdom</td>\n",
       "    </tr>\n",
       "    <tr>\n",
       "      <th>6</th>\n",
       "      <td>536365</td>\n",
       "      <td>21730</td>\n",
       "      <td>GLASS STAR FROSTED T-LIGHT HOLDER</td>\n",
       "      <td>6</td>\n",
       "      <td>12/1/10 8:26</td>\n",
       "      <td>4.25</td>\n",
       "      <td>17850.0</td>\n",
       "      <td>United Kingdom</td>\n",
       "    </tr>\n",
       "    <tr>\n",
       "      <th>7</th>\n",
       "      <td>536366</td>\n",
       "      <td>22633</td>\n",
       "      <td>HAND WARMER UNION JACK</td>\n",
       "      <td>6</td>\n",
       "      <td>12/1/10 8:28</td>\n",
       "      <td>1.85</td>\n",
       "      <td>17850.0</td>\n",
       "      <td>United Kingdom</td>\n",
       "    </tr>\n",
       "    <tr>\n",
       "      <th>8</th>\n",
       "      <td>536366</td>\n",
       "      <td>22632</td>\n",
       "      <td>HAND WARMER RED POLKA DOT</td>\n",
       "      <td>6</td>\n",
       "      <td>12/1/10 8:28</td>\n",
       "      <td>1.85</td>\n",
       "      <td>17850.0</td>\n",
       "      <td>United Kingdom</td>\n",
       "    </tr>\n",
       "    <tr>\n",
       "      <th>9</th>\n",
       "      <td>536367</td>\n",
       "      <td>84879</td>\n",
       "      <td>ASSORTED COLOUR BIRD ORNAMENT</td>\n",
       "      <td>32</td>\n",
       "      <td>12/1/10 8:34</td>\n",
       "      <td>1.69</td>\n",
       "      <td>13047.0</td>\n",
       "      <td>United Kingdom</td>\n",
       "    </tr>\n",
       "  </tbody>\n",
       "</table>\n",
       "</div>"
      ],
      "text/plain": [
       "  InvoiceNo StockCode                          Description  Quantity  \\\n",
       "0    536365    85123A   WHITE HANGING HEART T-LIGHT HOLDER         6   \n",
       "1    536365     71053                  WHITE METAL LANTERN         6   \n",
       "2    536365    84406B       CREAM CUPID HEARTS COAT HANGER         8   \n",
       "3    536365    84029G  KNITTED UNION FLAG HOT WATER BOTTLE         6   \n",
       "4    536365    84029E       RED WOOLLY HOTTIE WHITE HEART.         6   \n",
       "5    536365     22752         SET 7 BABUSHKA NESTING BOXES         2   \n",
       "6    536365     21730    GLASS STAR FROSTED T-LIGHT HOLDER         6   \n",
       "7    536366     22633               HAND WARMER UNION JACK         6   \n",
       "8    536366     22632            HAND WARMER RED POLKA DOT         6   \n",
       "9    536367     84879        ASSORTED COLOUR BIRD ORNAMENT        32   \n",
       "\n",
       "    InvoiceDate  UnitPrice  CustomerID         Country  \n",
       "0  12/1/10 8:26       2.55     17850.0  United Kingdom  \n",
       "1  12/1/10 8:26       3.39     17850.0  United Kingdom  \n",
       "2  12/1/10 8:26       2.75     17850.0  United Kingdom  \n",
       "3  12/1/10 8:26       3.39     17850.0  United Kingdom  \n",
       "4  12/1/10 8:26       3.39     17850.0  United Kingdom  \n",
       "5  12/1/10 8:26       7.65     17850.0  United Kingdom  \n",
       "6  12/1/10 8:26       4.25     17850.0  United Kingdom  \n",
       "7  12/1/10 8:28       1.85     17850.0  United Kingdom  \n",
       "8  12/1/10 8:28       1.85     17850.0  United Kingdom  \n",
       "9  12/1/10 8:34       1.69     13047.0  United Kingdom  "
      ]
     },
     "execution_count": 3,
     "metadata": {},
     "output_type": "execute_result"
    }
   ],
   "source": [
    "#show the first few rows of the data\n",
    "df.head(10)"
   ]
  },
  {
   "cell_type": "code",
   "execution_count": 4,
   "id": "d4963fd8",
   "metadata": {},
   "outputs": [
    {
     "name": "stdout",
     "output_type": "stream",
     "text": [
      "<class 'pandas.core.frame.DataFrame'>\n",
      "RangeIndex: 541909 entries, 0 to 541908\n",
      "Data columns (total 8 columns):\n",
      " #   Column       Non-Null Count   Dtype  \n",
      "---  ------       --------------   -----  \n",
      " 0   InvoiceNo    541909 non-null  object \n",
      " 1   StockCode    541909 non-null  object \n",
      " 2   Description  540455 non-null  object \n",
      " 3   Quantity     541909 non-null  int64  \n",
      " 4   InvoiceDate  541909 non-null  object \n",
      " 5   UnitPrice    541909 non-null  float64\n",
      " 6   CustomerID   406829 non-null  float64\n",
      " 7   Country      541909 non-null  object \n",
      "dtypes: float64(2), int64(1), object(5)\n",
      "memory usage: 33.1+ MB\n"
     ]
    }
   ],
   "source": [
    "#show the descriptive information of the data\n",
    "df.info()"
   ]
  },
  {
   "cell_type": "markdown",
   "id": "fc49a5a7",
   "metadata": {},
   "source": [
    "The information about gievn data stated that:-\n",
    "- The data consist of total 541,908 rows and 8 columns\n",
    "- 2 columns i.e \"Description\" and \"CustomerID\" have NULL values\n",
    "- 3 columns are of numeric type rest all are objects\n",
    "- There is a column \"InvoiceDate\" which is of type object, it must be converted into Datetime for further analysis. "
   ]
  },
  {
   "cell_type": "markdown",
   "id": "fb92bc6f",
   "metadata": {},
   "source": [
    "## STEP 2: Prepare and Process Data"
   ]
  },
  {
   "cell_type": "markdown",
   "id": "ee24ad1f",
   "metadata": {},
   "source": [
    "**Check for NULL values** "
   ]
  },
  {
   "cell_type": "code",
   "execution_count": 5,
   "id": "3c577022",
   "metadata": {},
   "outputs": [
    {
     "data": {
      "text/plain": [
       "InvoiceNo           0\n",
       "StockCode           0\n",
       "Description      1454\n",
       "Quantity            0\n",
       "InvoiceDate         0\n",
       "UnitPrice           0\n",
       "CustomerID     135080\n",
       "Country             0\n",
       "dtype: int64"
      ]
     },
     "execution_count": 5,
     "metadata": {},
     "output_type": "execute_result"
    }
   ],
   "source": [
    "df.isnull().sum()"
   ]
  },
  {
   "cell_type": "markdown",
   "id": "f3bbaa69",
   "metadata": {},
   "source": [
    "The data contain 1454 null values in **Description** column and 135080 values in **CustomerID** column.\n",
    "- StockCode represents the item. That means item having same StockCode must have same description. So set the null values of the description column accordingly.\n",
    "- Set the null value in CustomerID column to 0."
   ]
  },
  {
   "cell_type": "code",
   "execution_count": 6,
   "id": "44dea2de",
   "metadata": {},
   "outputs": [],
   "source": [
    "# Calculate the most common description for each stock code\n",
    "common_descriptions = df.groupby('StockCode')['Description'].apply(lambda x: x.mode()[0] if not x.mode().empty else np.nan)\n",
    "\n",
    "# Create a mapping dictionary for replacement\n",
    "description_mapping = common_descriptions.to_dict()\n",
    "\n",
    "# Use transform to replace values efficiently\n",
    "df['Description'] = df['StockCode'].map(description_mapping).fillna(df['Description'])\n",
    "\n",
    "#set the remaining null value to 'Unknown'\n",
    "df['Description'].fillna('Unknown', inplace=True)\n",
    "\n",
    "#set the null values in CustomerID column to 0\n",
    "df['CustomerID'].fillna(0, inplace=True)"
   ]
  },
  {
   "cell_type": "code",
   "execution_count": 7,
   "id": "2018eb0a",
   "metadata": {},
   "outputs": [
    {
     "data": {
      "text/plain": [
       "InvoiceNo      0\n",
       "StockCode      0\n",
       "Description    0\n",
       "Quantity       0\n",
       "InvoiceDate    0\n",
       "UnitPrice      0\n",
       "CustomerID     0\n",
       "Country        0\n",
       "dtype: int64"
      ]
     },
     "execution_count": 7,
     "metadata": {},
     "output_type": "execute_result"
    }
   ],
   "source": [
    "df.isnull().sum()"
   ]
  },
  {
   "cell_type": "markdown",
   "id": "3d1c5164",
   "metadata": {},
   "source": [
    "**Check for duplicate values**"
   ]
  },
  {
   "cell_type": "code",
   "execution_count": 8,
   "id": "bbe2c538",
   "metadata": {},
   "outputs": [
    {
     "data": {
      "text/plain": [
       "5270"
      ]
     },
     "execution_count": 8,
     "metadata": {},
     "output_type": "execute_result"
    }
   ],
   "source": [
    "df.duplicated(keep='first').sum()"
   ]
  },
  {
   "cell_type": "code",
   "execution_count": 9,
   "id": "f50a9f8e",
   "metadata": {},
   "outputs": [],
   "source": [
    "df.drop_duplicates(inplace=True)"
   ]
  },
  {
   "cell_type": "code",
   "execution_count": 10,
   "id": "d59f4540",
   "metadata": {},
   "outputs": [
    {
     "data": {
      "text/plain": [
       "(536639, 8)"
      ]
     },
     "execution_count": 10,
     "metadata": {},
     "output_type": "execute_result"
    }
   ],
   "source": [
    "df.shape"
   ]
  },
  {
   "cell_type": "markdown",
   "id": "98f25481",
   "metadata": {},
   "source": [
    "- There are total 541,908 rows of data amoung which 5,270 rows of data are duplicate. \n",
    "- Drop/Delete the duplicate data, now that datafrane having total 536,639 number of rows. "
   ]
  },
  {
   "cell_type": "markdown",
   "id": "c17c3591",
   "metadata": {},
   "source": [
    "**Check for unique values in each columns**"
   ]
  },
  {
   "cell_type": "code",
   "execution_count": 11,
   "id": "2dcc0796",
   "metadata": {},
   "outputs": [
    {
     "data": {
      "text/plain": [
       "InvoiceNo      25900\n",
       "StockCode       4070\n",
       "Description     3823\n",
       "Quantity         722\n",
       "InvoiceDate    23260\n",
       "UnitPrice       1630\n",
       "CustomerID      4373\n",
       "Country           38\n",
       "dtype: int64"
      ]
     },
     "execution_count": 11,
     "metadata": {},
     "output_type": "execute_result"
    }
   ],
   "source": [
    "#get the count of unique values in each column\n",
    "df.nunique()"
   ]
  },
  {
   "cell_type": "markdown",
   "id": "8846d65e",
   "metadata": {},
   "source": [
    "- Ideally each invoice must have a customer ID but on comparing \"InvoiceNo\" and \"CustomerID\" columns we get that, their are 25,900 unique InvoiceNo but only 4,373 unique CustomerID that means 21,527 invoices either not have CustomerID or not mentioned in the data.\n",
    "- Ideally each item have a stock code and respective description but on comparing \"Description\" and \"StockCode\" columns we get that their are only 3,823 descriptions available for 4,070 stock code(or items) that means some item's are not description.\n",
    "- **The given data is for 305 days**\n",
    "- **The customers are from 38 different countries**"
   ]
  },
  {
   "cell_type": "code",
   "execution_count": 12,
   "id": "48274553",
   "metadata": {},
   "outputs": [],
   "source": [
    "df = df[~((df['Quantity']<0) | (df['UnitPrice']<0))]\n",
    "#df.shape"
   ]
  },
  {
   "cell_type": "markdown",
   "id": "3e62fadf",
   "metadata": {},
   "source": [
    "**Add some columns**"
   ]
  },
  {
   "cell_type": "code",
   "execution_count": 13,
   "id": "0dc48648",
   "metadata": {},
   "outputs": [],
   "source": [
    "df['InvoiceDate'] = pd.to_datetime(df['InvoiceDate']).dt.normalize()"
   ]
  },
  {
   "cell_type": "code",
   "execution_count": 14,
   "id": "321dd29a",
   "metadata": {},
   "outputs": [],
   "source": [
    "df['Year'] = df['InvoiceDate'].dt.year"
   ]
  },
  {
   "cell_type": "code",
   "execution_count": 15,
   "id": "ab80ca8f",
   "metadata": {},
   "outputs": [],
   "source": [
    "df['Month'] = df['InvoiceDate'].dt.month"
   ]
  },
  {
   "cell_type": "code",
   "execution_count": 16,
   "id": "e7210156",
   "metadata": {},
   "outputs": [],
   "source": [
    "df['Month_name'] = df['InvoiceDate'].dt.strftime('%Y-%b')"
   ]
  },
  {
   "cell_type": "code",
   "execution_count": 17,
   "id": "bb699bba",
   "metadata": {},
   "outputs": [],
   "source": [
    "df['Quarter'] = df['InvoiceDate'].dt.quarter.apply(lambda x: f'Q{x}')"
   ]
  },
  {
   "cell_type": "code",
   "execution_count": 18,
   "id": "30166266",
   "metadata": {},
   "outputs": [
    {
     "data": {
      "text/plain": [
       "InvoiceNo              object\n",
       "StockCode              object\n",
       "Description            object\n",
       "Quantity                int64\n",
       "InvoiceDate    datetime64[ns]\n",
       "UnitPrice             float64\n",
       "CustomerID            float64\n",
       "Country                object\n",
       "Year                    int64\n",
       "Month                   int64\n",
       "Month_name             object\n",
       "Quarter                object\n",
       "dtype: object"
      ]
     },
     "execution_count": 18,
     "metadata": {},
     "output_type": "execute_result"
    }
   ],
   "source": [
    "df.dtypes"
   ]
  },
  {
   "cell_type": "markdown",
   "id": "218f98a0",
   "metadata": {},
   "source": [
    "**Add new column to the data that calculate the total price by multiplying \"Quantity\" and \"UnitPrice\"**"
   ]
  },
  {
   "cell_type": "code",
   "execution_count": 19,
   "id": "782c22a9",
   "metadata": {},
   "outputs": [],
   "source": [
    "df['Sale'] = df['Quantity'] * df['UnitPrice']"
   ]
  },
  {
   "cell_type": "code",
   "execution_count": 20,
   "id": "701c0af4",
   "metadata": {},
   "outputs": [
    {
     "data": {
      "text/html": [
       "<div>\n",
       "<style scoped>\n",
       "    .dataframe tbody tr th:only-of-type {\n",
       "        vertical-align: middle;\n",
       "    }\n",
       "\n",
       "    .dataframe tbody tr th {\n",
       "        vertical-align: top;\n",
       "    }\n",
       "\n",
       "    .dataframe thead th {\n",
       "        text-align: right;\n",
       "    }\n",
       "</style>\n",
       "<table border=\"1\" class=\"dataframe\">\n",
       "  <thead>\n",
       "    <tr style=\"text-align: right;\">\n",
       "      <th></th>\n",
       "      <th>InvoiceNo</th>\n",
       "      <th>StockCode</th>\n",
       "      <th>Description</th>\n",
       "      <th>Quantity</th>\n",
       "      <th>InvoiceDate</th>\n",
       "      <th>UnitPrice</th>\n",
       "      <th>CustomerID</th>\n",
       "      <th>Country</th>\n",
       "      <th>Year</th>\n",
       "      <th>Month</th>\n",
       "      <th>Month_name</th>\n",
       "      <th>Quarter</th>\n",
       "      <th>Sale</th>\n",
       "    </tr>\n",
       "  </thead>\n",
       "  <tbody>\n",
       "    <tr>\n",
       "      <th>0</th>\n",
       "      <td>536365</td>\n",
       "      <td>85123A</td>\n",
       "      <td>WHITE HANGING HEART T-LIGHT HOLDER</td>\n",
       "      <td>6</td>\n",
       "      <td>2010-12-01</td>\n",
       "      <td>2.55</td>\n",
       "      <td>17850.0</td>\n",
       "      <td>United Kingdom</td>\n",
       "      <td>2010</td>\n",
       "      <td>12</td>\n",
       "      <td>2010-Dec</td>\n",
       "      <td>Q4</td>\n",
       "      <td>15.30</td>\n",
       "    </tr>\n",
       "    <tr>\n",
       "      <th>1</th>\n",
       "      <td>536365</td>\n",
       "      <td>71053</td>\n",
       "      <td>WHITE METAL LANTERN</td>\n",
       "      <td>6</td>\n",
       "      <td>2010-12-01</td>\n",
       "      <td>3.39</td>\n",
       "      <td>17850.0</td>\n",
       "      <td>United Kingdom</td>\n",
       "      <td>2010</td>\n",
       "      <td>12</td>\n",
       "      <td>2010-Dec</td>\n",
       "      <td>Q4</td>\n",
       "      <td>20.34</td>\n",
       "    </tr>\n",
       "    <tr>\n",
       "      <th>2</th>\n",
       "      <td>536365</td>\n",
       "      <td>84406B</td>\n",
       "      <td>CREAM CUPID HEARTS COAT HANGER</td>\n",
       "      <td>8</td>\n",
       "      <td>2010-12-01</td>\n",
       "      <td>2.75</td>\n",
       "      <td>17850.0</td>\n",
       "      <td>United Kingdom</td>\n",
       "      <td>2010</td>\n",
       "      <td>12</td>\n",
       "      <td>2010-Dec</td>\n",
       "      <td>Q4</td>\n",
       "      <td>22.00</td>\n",
       "    </tr>\n",
       "    <tr>\n",
       "      <th>3</th>\n",
       "      <td>536365</td>\n",
       "      <td>84029G</td>\n",
       "      <td>KNITTED UNION FLAG HOT WATER BOTTLE</td>\n",
       "      <td>6</td>\n",
       "      <td>2010-12-01</td>\n",
       "      <td>3.39</td>\n",
       "      <td>17850.0</td>\n",
       "      <td>United Kingdom</td>\n",
       "      <td>2010</td>\n",
       "      <td>12</td>\n",
       "      <td>2010-Dec</td>\n",
       "      <td>Q4</td>\n",
       "      <td>20.34</td>\n",
       "    </tr>\n",
       "    <tr>\n",
       "      <th>4</th>\n",
       "      <td>536365</td>\n",
       "      <td>84029E</td>\n",
       "      <td>RED WOOLLY HOTTIE WHITE HEART.</td>\n",
       "      <td>6</td>\n",
       "      <td>2010-12-01</td>\n",
       "      <td>3.39</td>\n",
       "      <td>17850.0</td>\n",
       "      <td>United Kingdom</td>\n",
       "      <td>2010</td>\n",
       "      <td>12</td>\n",
       "      <td>2010-Dec</td>\n",
       "      <td>Q4</td>\n",
       "      <td>20.34</td>\n",
       "    </tr>\n",
       "  </tbody>\n",
       "</table>\n",
       "</div>"
      ],
      "text/plain": [
       "  InvoiceNo StockCode                          Description  Quantity  \\\n",
       "0    536365    85123A   WHITE HANGING HEART T-LIGHT HOLDER         6   \n",
       "1    536365     71053                  WHITE METAL LANTERN         6   \n",
       "2    536365    84406B       CREAM CUPID HEARTS COAT HANGER         8   \n",
       "3    536365    84029G  KNITTED UNION FLAG HOT WATER BOTTLE         6   \n",
       "4    536365    84029E       RED WOOLLY HOTTIE WHITE HEART.         6   \n",
       "\n",
       "  InvoiceDate  UnitPrice  CustomerID         Country  Year  Month Month_name  \\\n",
       "0  2010-12-01       2.55     17850.0  United Kingdom  2010     12   2010-Dec   \n",
       "1  2010-12-01       3.39     17850.0  United Kingdom  2010     12   2010-Dec   \n",
       "2  2010-12-01       2.75     17850.0  United Kingdom  2010     12   2010-Dec   \n",
       "3  2010-12-01       3.39     17850.0  United Kingdom  2010     12   2010-Dec   \n",
       "4  2010-12-01       3.39     17850.0  United Kingdom  2010     12   2010-Dec   \n",
       "\n",
       "  Quarter   Sale  \n",
       "0      Q4  15.30  \n",
       "1      Q4  20.34  \n",
       "2      Q4  22.00  \n",
       "3      Q4  20.34  \n",
       "4      Q4  20.34  "
      ]
     },
     "execution_count": 20,
     "metadata": {},
     "output_type": "execute_result"
    }
   ],
   "source": [
    "df.head()"
   ]
  },
  {
   "cell_type": "markdown",
   "id": "f3b63379",
   "metadata": {},
   "source": [
    "Calculate the Quaterly sale of the retailer"
   ]
  },
  {
   "cell_type": "code",
   "execution_count": 21,
   "id": "e8815607",
   "metadata": {},
   "outputs": [
    {
     "data": {
      "text/html": [
       "<div>\n",
       "<style scoped>\n",
       "    .dataframe tbody tr th:only-of-type {\n",
       "        vertical-align: middle;\n",
       "    }\n",
       "\n",
       "    .dataframe tbody tr th {\n",
       "        vertical-align: top;\n",
       "    }\n",
       "\n",
       "    .dataframe thead th {\n",
       "        text-align: right;\n",
       "    }\n",
       "</style>\n",
       "<table border=\"1\" class=\"dataframe\">\n",
       "  <thead>\n",
       "    <tr style=\"text-align: right;\">\n",
       "      <th></th>\n",
       "      <th>Quarter</th>\n",
       "      <th>Sale</th>\n",
       "    </tr>\n",
       "  </thead>\n",
       "  <tbody>\n",
       "    <tr>\n",
       "      <th>0</th>\n",
       "      <td>Q1</td>\n",
       "      <td>1928572.430</td>\n",
       "    </tr>\n",
       "    <tr>\n",
       "      <th>1</th>\n",
       "      <td>Q2</td>\n",
       "      <td>2066797.261</td>\n",
       "    </tr>\n",
       "    <tr>\n",
       "      <th>2</th>\n",
       "      <td>Q3</td>\n",
       "      <td>2532352.693</td>\n",
       "    </tr>\n",
       "    <tr>\n",
       "      <th>3</th>\n",
       "      <td>Q4</td>\n",
       "      <td>3292383.840</td>\n",
       "    </tr>\n",
       "  </tbody>\n",
       "</table>\n",
       "</div>"
      ],
      "text/plain": [
       "  Quarter         Sale\n",
       "0      Q1  1928572.430\n",
       "1      Q2  2066797.261\n",
       "2      Q3  2532352.693\n",
       "3      Q4  3292383.840"
      ]
     },
     "execution_count": 21,
     "metadata": {},
     "output_type": "execute_result"
    }
   ],
   "source": [
    "evaluate_quarter = df[df['Year'] > 2010].groupby('Quarter').agg({'Sale':sum}).reset_index()\n",
    "evaluate_quarter"
   ]
  },
  {
   "cell_type": "code",
   "execution_count": 22,
   "id": "bbb97f5a",
   "metadata": {},
   "outputs": [
    {
     "data": {
      "text/plain": [
       "Text(0, 0.5, 'Sales (in millions)')"
      ]
     },
     "execution_count": 22,
     "metadata": {},
     "output_type": "execute_result"
    },
    {
     "data": {
      "image/png": "[encoded data removed]",
      "text/plain": [
       "<Figure size 720x360 with 1 Axes>"
      ]
     },
     "metadata": {
      "needs_background": "light"
     },
     "output_type": "display_data"
    }
   ],
   "source": [
    "plt.figure(figsize = (10,5))\n",
    "plt.bar(data=evaluate_quarter, x = 'Quarter', height='Sale')\n",
    "plt.title('Quarterly Sales (in millions)')\n",
    "plt.xlabel('Quarter')\n",
    "plt.ylabel('Sales (in millions)')"
   ]
  },
  {
   "cell_type": "markdown",
   "id": "e363b294",
   "metadata": {},
   "source": [
    "Q4 is the most revenue generated quater of the year"
   ]
  },
  {
   "cell_type": "code",
   "execution_count": 23,
   "id": "53bb210c",
   "metadata": {},
   "outputs": [
    {
     "data": {
      "text/html": [
       "<div>\n",
       "<style scoped>\n",
       "    .dataframe tbody tr th:only-of-type {\n",
       "        vertical-align: middle;\n",
       "    }\n",
       "\n",
       "    .dataframe tbody tr th {\n",
       "        vertical-align: top;\n",
       "    }\n",
       "\n",
       "    .dataframe thead th {\n",
       "        text-align: right;\n",
       "    }\n",
       "</style>\n",
       "<table border=\"1\" class=\"dataframe\">\n",
       "  <thead>\n",
       "    <tr style=\"text-align: right;\">\n",
       "      <th></th>\n",
       "      <th>Year</th>\n",
       "      <th>Month</th>\n",
       "      <th>Month_name</th>\n",
       "      <th>Sale</th>\n",
       "    </tr>\n",
       "  </thead>\n",
       "  <tbody>\n",
       "    <tr>\n",
       "      <th>0</th>\n",
       "      <td>2010</td>\n",
       "      <td>12</td>\n",
       "      <td>2010-Dec</td>\n",
       "      <td>821452.730</td>\n",
       "    </tr>\n",
       "    <tr>\n",
       "      <th>1</th>\n",
       "      <td>2011</td>\n",
       "      <td>1</td>\n",
       "      <td>2011-Jan</td>\n",
       "      <td>689811.610</td>\n",
       "    </tr>\n",
       "    <tr>\n",
       "      <th>2</th>\n",
       "      <td>2011</td>\n",
       "      <td>2</td>\n",
       "      <td>2011-Feb</td>\n",
       "      <td>522545.560</td>\n",
       "    </tr>\n",
       "    <tr>\n",
       "      <th>3</th>\n",
       "      <td>2011</td>\n",
       "      <td>3</td>\n",
       "      <td>2011-Mar</td>\n",
       "      <td>716215.260</td>\n",
       "    </tr>\n",
       "    <tr>\n",
       "      <th>4</th>\n",
       "      <td>2011</td>\n",
       "      <td>4</td>\n",
       "      <td>2011-Apr</td>\n",
       "      <td>536968.491</td>\n",
       "    </tr>\n",
       "    <tr>\n",
       "      <th>5</th>\n",
       "      <td>2011</td>\n",
       "      <td>5</td>\n",
       "      <td>2011-May</td>\n",
       "      <td>769281.760</td>\n",
       "    </tr>\n",
       "    <tr>\n",
       "      <th>6</th>\n",
       "      <td>2011</td>\n",
       "      <td>6</td>\n",
       "      <td>2011-Jun</td>\n",
       "      <td>760547.010</td>\n",
       "    </tr>\n",
       "    <tr>\n",
       "      <th>7</th>\n",
       "      <td>2011</td>\n",
       "      <td>7</td>\n",
       "      <td>2011-Jul</td>\n",
       "      <td>718076.121</td>\n",
       "    </tr>\n",
       "    <tr>\n",
       "      <th>8</th>\n",
       "      <td>2011</td>\n",
       "      <td>8</td>\n",
       "      <td>2011-Aug</td>\n",
       "      <td>757841.380</td>\n",
       "    </tr>\n",
       "    <tr>\n",
       "      <th>9</th>\n",
       "      <td>2011</td>\n",
       "      <td>9</td>\n",
       "      <td>2011-Sep</td>\n",
       "      <td>1056435.192</td>\n",
       "    </tr>\n",
       "    <tr>\n",
       "      <th>10</th>\n",
       "      <td>2011</td>\n",
       "      <td>10</td>\n",
       "      <td>2011-Oct</td>\n",
       "      <td>1151263.730</td>\n",
       "    </tr>\n",
       "    <tr>\n",
       "      <th>11</th>\n",
       "      <td>2011</td>\n",
       "      <td>11</td>\n",
       "      <td>2011-Nov</td>\n",
       "      <td>1503329.780</td>\n",
       "    </tr>\n",
       "    <tr>\n",
       "      <th>12</th>\n",
       "      <td>2011</td>\n",
       "      <td>12</td>\n",
       "      <td>2011-Dec</td>\n",
       "      <td>637790.330</td>\n",
       "    </tr>\n",
       "  </tbody>\n",
       "</table>\n",
       "</div>"
      ],
      "text/plain": [
       "    Year  Month Month_name         Sale\n",
       "0   2010     12   2010-Dec   821452.730\n",
       "1   2011      1   2011-Jan   689811.610\n",
       "2   2011      2   2011-Feb   522545.560\n",
       "3   2011      3   2011-Mar   716215.260\n",
       "4   2011      4   2011-Apr   536968.491\n",
       "5   2011      5   2011-May   769281.760\n",
       "6   2011      6   2011-Jun   760547.010\n",
       "7   2011      7   2011-Jul   718076.121\n",
       "8   2011      8   2011-Aug   757841.380\n",
       "9   2011      9   2011-Sep  1056435.192\n",
       "10  2011     10   2011-Oct  1151263.730\n",
       "11  2011     11   2011-Nov  1503329.780\n",
       "12  2011     12   2011-Dec   637790.330"
      ]
     },
     "execution_count": 23,
     "metadata": {},
     "output_type": "execute_result"
    }
   ],
   "source": [
    "evaluate_monthly = df.groupby(by=['Year','Month','Month_name'])[['Month_name','Sale']].sum().reset_index()\n",
    "evaluate_monthly"
   ]
  },
  {
   "cell_type": "code",
   "execution_count": 24,
   "id": "ad4ff7c6",
   "metadata": {},
   "outputs": [
    {
     "data": {
      "image/png": "[encoded data removed]",
      "text/plain": [
       "<Figure size 720x360 with 1 Axes>"
      ]
     },
     "metadata": {
      "needs_background": "light"
     },
     "output_type": "display_data"
    }
   ],
   "source": [
    "plt.figure(figsize = (10,5))\n",
    "plt.bar(data=evaluate_monthly[:13], x = 'Month_name', height='Sale')\n",
    "plt.title('Monthly Sales (in millions)')\n",
    "plt.xlabel('Month')\n",
    "plt.ylabel('Sales (in millions)')\n",
    "plt.xticks(rotation=45)\n",
    "plt.show()"
   ]
  },
  {
   "cell_type": "markdown",
   "id": "74e80a8e",
   "metadata": {},
   "source": [
    "The sale drastically drop(i.e. 57.5%) from november 2011 to december 2011"
   ]
  },
  {
   "cell_type": "markdown",
   "id": "e609753a",
   "metadata": {},
   "source": [
    "Country wise sales figure"
   ]
  },
  {
   "cell_type": "code",
   "execution_count": 25,
   "id": "106142d2",
   "metadata": {},
   "outputs": [
    {
     "data": {
      "text/html": [
       "<div>\n",
       "<style scoped>\n",
       "    .dataframe tbody tr th:only-of-type {\n",
       "        vertical-align: middle;\n",
       "    }\n",
       "\n",
       "    .dataframe tbody tr th {\n",
       "        vertical-align: top;\n",
       "    }\n",
       "\n",
       "    .dataframe thead th {\n",
       "        text-align: right;\n",
       "    }\n",
       "</style>\n",
       "<table border=\"1\" class=\"dataframe\">\n",
       "  <thead>\n",
       "    <tr style=\"text-align: right;\">\n",
       "      <th></th>\n",
       "      <th>Country</th>\n",
       "      <th>Sale</th>\n",
       "    </tr>\n",
       "  </thead>\n",
       "  <tbody>\n",
       "    <tr>\n",
       "      <th>0</th>\n",
       "      <td>United Kingdom</td>\n",
       "      <td>9001192.244</td>\n",
       "    </tr>\n",
       "    <tr>\n",
       "      <th>1</th>\n",
       "      <td>Netherlands</td>\n",
       "      <td>285446.340</td>\n",
       "    </tr>\n",
       "    <tr>\n",
       "      <th>2</th>\n",
       "      <td>EIRE</td>\n",
       "      <td>283140.520</td>\n",
       "    </tr>\n",
       "    <tr>\n",
       "      <th>3</th>\n",
       "      <td>Germany</td>\n",
       "      <td>228678.400</td>\n",
       "    </tr>\n",
       "    <tr>\n",
       "      <th>4</th>\n",
       "      <td>France</td>\n",
       "      <td>209625.370</td>\n",
       "    </tr>\n",
       "    <tr>\n",
       "      <th>5</th>\n",
       "      <td>Australia</td>\n",
       "      <td>138453.810</td>\n",
       "    </tr>\n",
       "    <tr>\n",
       "      <th>6</th>\n",
       "      <td>Spain</td>\n",
       "      <td>61558.560</td>\n",
       "    </tr>\n",
       "    <tr>\n",
       "      <th>7</th>\n",
       "      <td>Switzerland</td>\n",
       "      <td>57067.600</td>\n",
       "    </tr>\n",
       "    <tr>\n",
       "      <th>8</th>\n",
       "      <td>Belgium</td>\n",
       "      <td>41196.340</td>\n",
       "    </tr>\n",
       "    <tr>\n",
       "      <th>9</th>\n",
       "      <td>Sweden</td>\n",
       "      <td>38367.830</td>\n",
       "    </tr>\n",
       "    <tr>\n",
       "      <th>10</th>\n",
       "      <td>Japan</td>\n",
       "      <td>37416.370</td>\n",
       "    </tr>\n",
       "    <tr>\n",
       "      <th>11</th>\n",
       "      <td>Norway</td>\n",
       "      <td>36165.440</td>\n",
       "    </tr>\n",
       "    <tr>\n",
       "      <th>12</th>\n",
       "      <td>Portugal</td>\n",
       "      <td>33683.050</td>\n",
       "    </tr>\n",
       "    <tr>\n",
       "      <th>13</th>\n",
       "      <td>Finland</td>\n",
       "      <td>22546.080</td>\n",
       "    </tr>\n",
       "    <tr>\n",
       "      <th>14</th>\n",
       "      <td>Singapore</td>\n",
       "      <td>21279.290</td>\n",
       "    </tr>\n",
       "    <tr>\n",
       "      <th>15</th>\n",
       "      <td>Channel Islands</td>\n",
       "      <td>20440.540</td>\n",
       "    </tr>\n",
       "    <tr>\n",
       "      <th>16</th>\n",
       "      <td>Denmark</td>\n",
       "      <td>18955.340</td>\n",
       "    </tr>\n",
       "    <tr>\n",
       "      <th>17</th>\n",
       "      <td>Italy</td>\n",
       "      <td>17483.240</td>\n",
       "    </tr>\n",
       "    <tr>\n",
       "      <th>18</th>\n",
       "      <td>Hong Kong</td>\n",
       "      <td>15483.000</td>\n",
       "    </tr>\n",
       "    <tr>\n",
       "      <th>19</th>\n",
       "      <td>Cyprus</td>\n",
       "      <td>13502.850</td>\n",
       "    </tr>\n",
       "    <tr>\n",
       "      <th>20</th>\n",
       "      <td>Austria</td>\n",
       "      <td>10198.680</td>\n",
       "    </tr>\n",
       "    <tr>\n",
       "      <th>21</th>\n",
       "      <td>Israel</td>\n",
       "      <td>8129.410</td>\n",
       "    </tr>\n",
       "    <tr>\n",
       "      <th>22</th>\n",
       "      <td>Poland</td>\n",
       "      <td>7334.650</td>\n",
       "    </tr>\n",
       "    <tr>\n",
       "      <th>23</th>\n",
       "      <td>Greece</td>\n",
       "      <td>4760.520</td>\n",
       "    </tr>\n",
       "    <tr>\n",
       "      <th>24</th>\n",
       "      <td>Unspecified</td>\n",
       "      <td>4740.940</td>\n",
       "    </tr>\n",
       "    <tr>\n",
       "      <th>25</th>\n",
       "      <td>Iceland</td>\n",
       "      <td>4310.000</td>\n",
       "    </tr>\n",
       "    <tr>\n",
       "      <th>26</th>\n",
       "      <td>Canada</td>\n",
       "      <td>3666.380</td>\n",
       "    </tr>\n",
       "    <tr>\n",
       "      <th>27</th>\n",
       "      <td>USA</td>\n",
       "      <td>3580.390</td>\n",
       "    </tr>\n",
       "    <tr>\n",
       "      <th>28</th>\n",
       "      <td>Malta</td>\n",
       "      <td>2725.590</td>\n",
       "    </tr>\n",
       "    <tr>\n",
       "      <th>29</th>\n",
       "      <td>United Arab Emirates</td>\n",
       "      <td>1902.280</td>\n",
       "    </tr>\n",
       "    <tr>\n",
       "      <th>30</th>\n",
       "      <td>Lebanon</td>\n",
       "      <td>1693.880</td>\n",
       "    </tr>\n",
       "    <tr>\n",
       "      <th>31</th>\n",
       "      <td>Lithuania</td>\n",
       "      <td>1661.060</td>\n",
       "    </tr>\n",
       "    <tr>\n",
       "      <th>32</th>\n",
       "      <td>European Community</td>\n",
       "      <td>1300.250</td>\n",
       "    </tr>\n",
       "    <tr>\n",
       "      <th>33</th>\n",
       "      <td>Brazil</td>\n",
       "      <td>1143.600</td>\n",
       "    </tr>\n",
       "    <tr>\n",
       "      <th>34</th>\n",
       "      <td>RSA</td>\n",
       "      <td>1002.310</td>\n",
       "    </tr>\n",
       "    <tr>\n",
       "      <th>35</th>\n",
       "      <td>Czech Republic</td>\n",
       "      <td>826.740</td>\n",
       "    </tr>\n",
       "    <tr>\n",
       "      <th>36</th>\n",
       "      <td>Bahrain</td>\n",
       "      <td>754.140</td>\n",
       "    </tr>\n",
       "    <tr>\n",
       "      <th>37</th>\n",
       "      <td>Saudi Arabia</td>\n",
       "      <td>145.920</td>\n",
       "    </tr>\n",
       "  </tbody>\n",
       "</table>\n",
       "</div>"
      ],
      "text/plain": [
       "                 Country         Sale\n",
       "0         United Kingdom  9001192.244\n",
       "1            Netherlands   285446.340\n",
       "2                   EIRE   283140.520\n",
       "3                Germany   228678.400\n",
       "4                 France   209625.370\n",
       "5              Australia   138453.810\n",
       "6                  Spain    61558.560\n",
       "7            Switzerland    57067.600\n",
       "8                Belgium    41196.340\n",
       "9                 Sweden    38367.830\n",
       "10                 Japan    37416.370\n",
       "11                Norway    36165.440\n",
       "12              Portugal    33683.050\n",
       "13               Finland    22546.080\n",
       "14             Singapore    21279.290\n",
       "15       Channel Islands    20440.540\n",
       "16               Denmark    18955.340\n",
       "17                 Italy    17483.240\n",
       "18             Hong Kong    15483.000\n",
       "19                Cyprus    13502.850\n",
       "20               Austria    10198.680\n",
       "21                Israel     8129.410\n",
       "22                Poland     7334.650\n",
       "23                Greece     4760.520\n",
       "24           Unspecified     4740.940\n",
       "25               Iceland     4310.000\n",
       "26                Canada     3666.380\n",
       "27                   USA     3580.390\n",
       "28                 Malta     2725.590\n",
       "29  United Arab Emirates     1902.280\n",
       "30               Lebanon     1693.880\n",
       "31             Lithuania     1661.060\n",
       "32    European Community     1300.250\n",
       "33                Brazil     1143.600\n",
       "34                   RSA     1002.310\n",
       "35        Czech Republic      826.740\n",
       "36               Bahrain      754.140\n",
       "37          Saudi Arabia      145.920"
      ]
     },
     "execution_count": 25,
     "metadata": {},
     "output_type": "execute_result"
    }
   ],
   "source": [
    "evaluate_country = df.groupby('Country')[['Country','Sale']].sum().sort_values(by='Sale',ascending=False).reset_index()\n",
    "evaluate_country"
   ]
  },
  {
   "cell_type": "markdown",
   "id": "92776d43",
   "metadata": {},
   "source": [
    "United Kingdom is the highest revenue generating country"
   ]
  },
  {
   "cell_type": "markdown",
   "id": "977b45d3",
   "metadata": {},
   "source": [
    "Sale wise product ranking"
   ]
  },
  {
   "cell_type": "code",
   "execution_count": 26,
   "id": "34cb0384",
   "metadata": {},
   "outputs": [
    {
     "data": {
      "text/html": [
       "<div>\n",
       "<style scoped>\n",
       "    .dataframe tbody tr th:only-of-type {\n",
       "        vertical-align: middle;\n",
       "    }\n",
       "\n",
       "    .dataframe tbody tr th {\n",
       "        vertical-align: top;\n",
       "    }\n",
       "\n",
       "    .dataframe thead th {\n",
       "        text-align: right;\n",
       "    }\n",
       "</style>\n",
       "<table border=\"1\" class=\"dataframe\">\n",
       "  <thead>\n",
       "    <tr style=\"text-align: right;\">\n",
       "      <th></th>\n",
       "      <th>Description</th>\n",
       "      <th>Quantity</th>\n",
       "      <th>Sale</th>\n",
       "    </tr>\n",
       "  </thead>\n",
       "  <tbody>\n",
       "    <tr>\n",
       "      <th>0</th>\n",
       "      <td>DOTCOM POSTAGE</td>\n",
       "      <td>1708</td>\n",
       "      <td>206248.77</td>\n",
       "    </tr>\n",
       "    <tr>\n",
       "      <th>1</th>\n",
       "      <td>REGENCY CAKESTAND 3 TIER</td>\n",
       "      <td>13862</td>\n",
       "      <td>174156.54</td>\n",
       "    </tr>\n",
       "    <tr>\n",
       "      <th>2</th>\n",
       "      <td>PAPER CRAFT , LITTLE BIRDIE</td>\n",
       "      <td>80995</td>\n",
       "      <td>168469.60</td>\n",
       "    </tr>\n",
       "    <tr>\n",
       "      <th>3</th>\n",
       "      <td>WHITE HANGING HEART T-LIGHT HOLDER</td>\n",
       "      <td>41937</td>\n",
       "      <td>106415.23</td>\n",
       "    </tr>\n",
       "    <tr>\n",
       "      <th>4</th>\n",
       "      <td>PARTY BUNTING</td>\n",
       "      <td>18287</td>\n",
       "      <td>99445.23</td>\n",
       "    </tr>\n",
       "    <tr>\n",
       "      <th>5</th>\n",
       "      <td>JUMBO BAG RED RETROSPOT</td>\n",
       "      <td>48375</td>\n",
       "      <td>94159.81</td>\n",
       "    </tr>\n",
       "    <tr>\n",
       "      <th>6</th>\n",
       "      <td>MEDIUM CERAMIC TOP STORAGE JAR</td>\n",
       "      <td>78033</td>\n",
       "      <td>81700.92</td>\n",
       "    </tr>\n",
       "    <tr>\n",
       "      <th>7</th>\n",
       "      <td>POSTAGE</td>\n",
       "      <td>6500</td>\n",
       "      <td>78101.88</td>\n",
       "    </tr>\n",
       "    <tr>\n",
       "      <th>8</th>\n",
       "      <td>Manual</td>\n",
       "      <td>6991</td>\n",
       "      <td>77752.82</td>\n",
       "    </tr>\n",
       "    <tr>\n",
       "      <th>9</th>\n",
       "      <td>RABBIT NIGHT LIGHT</td>\n",
       "      <td>31673</td>\n",
       "      <td>66870.03</td>\n",
       "    </tr>\n",
       "  </tbody>\n",
       "</table>\n",
       "</div>"
      ],
      "text/plain": [
       "                          Description  Quantity       Sale\n",
       "0                      DOTCOM POSTAGE      1708  206248.77\n",
       "1            REGENCY CAKESTAND 3 TIER     13862  174156.54\n",
       "2         PAPER CRAFT , LITTLE BIRDIE     80995  168469.60\n",
       "3  WHITE HANGING HEART T-LIGHT HOLDER     41937  106415.23\n",
       "4                       PARTY BUNTING     18287   99445.23\n",
       "5             JUMBO BAG RED RETROSPOT     48375   94159.81\n",
       "6      MEDIUM CERAMIC TOP STORAGE JAR     78033   81700.92\n",
       "7                             POSTAGE      6500   78101.88\n",
       "8                              Manual      6991   77752.82\n",
       "9                  RABBIT NIGHT LIGHT     31673   66870.03"
      ]
     },
     "execution_count": 26,
     "metadata": {},
     "output_type": "execute_result"
    }
   ],
   "source": [
    "evaluate_stock_sale = df.groupby(by=['Description'])[['Description','Quantity','Sale']].sum().sort_values(by='Sale', ascending=False).reset_index()\n",
    "evaluate_stock_sale.head(10)"
   ]
  },
  {
   "cell_type": "markdown",
   "id": "d322acca",
   "metadata": {},
   "source": [
    "Quantity wise product ranking"
   ]
  },
  {
   "cell_type": "code",
   "execution_count": 27,
   "id": "b3574c3c",
   "metadata": {},
   "outputs": [
    {
     "data": {
      "text/html": [
       "<div>\n",
       "<style scoped>\n",
       "    .dataframe tbody tr th:only-of-type {\n",
       "        vertical-align: middle;\n",
       "    }\n",
       "\n",
       "    .dataframe tbody tr th {\n",
       "        vertical-align: top;\n",
       "    }\n",
       "\n",
       "    .dataframe thead th {\n",
       "        text-align: right;\n",
       "    }\n",
       "</style>\n",
       "<table border=\"1\" class=\"dataframe\">\n",
       "  <thead>\n",
       "    <tr style=\"text-align: right;\">\n",
       "      <th></th>\n",
       "      <th>Description</th>\n",
       "      <th>Quantity</th>\n",
       "      <th>Sale</th>\n",
       "    </tr>\n",
       "  </thead>\n",
       "  <tbody>\n",
       "    <tr>\n",
       "      <th>0</th>\n",
       "      <td>PAPER CRAFT , LITTLE BIRDIE</td>\n",
       "      <td>80995</td>\n",
       "      <td>168469.60</td>\n",
       "    </tr>\n",
       "    <tr>\n",
       "      <th>1</th>\n",
       "      <td>MEDIUM CERAMIC TOP STORAGE JAR</td>\n",
       "      <td>78033</td>\n",
       "      <td>81700.92</td>\n",
       "    </tr>\n",
       "    <tr>\n",
       "      <th>2</th>\n",
       "      <td>POPCORN HOLDER</td>\n",
       "      <td>56898</td>\n",
       "      <td>51334.47</td>\n",
       "    </tr>\n",
       "    <tr>\n",
       "      <th>3</th>\n",
       "      <td>WORLD WAR 2 GLIDERS ASSTD DESIGNS</td>\n",
       "      <td>54951</td>\n",
       "      <td>13814.01</td>\n",
       "    </tr>\n",
       "    <tr>\n",
       "      <th>4</th>\n",
       "      <td>JUMBO BAG RED RETROSPOT</td>\n",
       "      <td>48375</td>\n",
       "      <td>94159.81</td>\n",
       "    </tr>\n",
       "    <tr>\n",
       "      <th>5</th>\n",
       "      <td>WHITE HANGING HEART T-LIGHT HOLDER</td>\n",
       "      <td>41937</td>\n",
       "      <td>106415.23</td>\n",
       "    </tr>\n",
       "    <tr>\n",
       "      <th>6</th>\n",
       "      <td>PACK OF 72 RETROSPOT CAKE CASES</td>\n",
       "      <td>36396</td>\n",
       "      <td>21246.45</td>\n",
       "    </tr>\n",
       "    <tr>\n",
       "      <th>7</th>\n",
       "      <td>ASSORTED COLOUR BIRD ORNAMENT</td>\n",
       "      <td>36362</td>\n",
       "      <td>58927.62</td>\n",
       "    </tr>\n",
       "    <tr>\n",
       "      <th>8</th>\n",
       "      <td>RABBIT NIGHT LIGHT</td>\n",
       "      <td>31673</td>\n",
       "      <td>66870.03</td>\n",
       "    </tr>\n",
       "    <tr>\n",
       "      <th>9</th>\n",
       "      <td>MINI PAINT SET VINTAGE</td>\n",
       "      <td>26633</td>\n",
       "      <td>16937.82</td>\n",
       "    </tr>\n",
       "  </tbody>\n",
       "</table>\n",
       "</div>"
      ],
      "text/plain": [
       "                          Description  Quantity       Sale\n",
       "0         PAPER CRAFT , LITTLE BIRDIE     80995  168469.60\n",
       "1      MEDIUM CERAMIC TOP STORAGE JAR     78033   81700.92\n",
       "2                      POPCORN HOLDER     56898   51334.47\n",
       "3   WORLD WAR 2 GLIDERS ASSTD DESIGNS     54951   13814.01\n",
       "4             JUMBO BAG RED RETROSPOT     48375   94159.81\n",
       "5  WHITE HANGING HEART T-LIGHT HOLDER     41937  106415.23\n",
       "6     PACK OF 72 RETROSPOT CAKE CASES     36396   21246.45\n",
       "7       ASSORTED COLOUR BIRD ORNAMENT     36362   58927.62\n",
       "8                  RABBIT NIGHT LIGHT     31673   66870.03\n",
       "9             MINI PAINT SET VINTAGE      26633   16937.82"
      ]
     },
     "execution_count": 27,
     "metadata": {},
     "output_type": "execute_result"
    }
   ],
   "source": [
    "evaluate_stock_quantity = df.groupby(by=['Description'])[['Description','Quantity','Sale']].sum().sort_values(by='Quantity', ascending=False).reset_index()\n",
    "evaluate_stock_quantity.head(10)"
   ]
  },
  {
   "cell_type": "markdown",
   "id": "3079538c",
   "metadata": {},
   "source": [
    "Customer_ID wise sale ranking"
   ]
  },
  {
   "cell_type": "code",
   "execution_count": 28,
   "id": "4ff5f1eb",
   "metadata": {},
   "outputs": [
    {
     "data": {
      "text/html": [
       "<div>\n",
       "<style scoped>\n",
       "    .dataframe tbody tr th:only-of-type {\n",
       "        vertical-align: middle;\n",
       "    }\n",
       "\n",
       "    .dataframe tbody tr th {\n",
       "        vertical-align: top;\n",
       "    }\n",
       "\n",
       "    .dataframe thead th {\n",
       "        text-align: right;\n",
       "    }\n",
       "</style>\n",
       "<table border=\"1\" class=\"dataframe\">\n",
       "  <thead>\n",
       "    <tr style=\"text-align: right;\">\n",
       "      <th></th>\n",
       "      <th>CustomerID</th>\n",
       "      <th>Country</th>\n",
       "      <th>Sale</th>\n",
       "    </tr>\n",
       "  </thead>\n",
       "  <tbody>\n",
       "    <tr>\n",
       "      <th>0</th>\n",
       "      <td>0.0</td>\n",
       "      <td>United Kingdom</td>\n",
       "      <td>1716719.45</td>\n",
       "    </tr>\n",
       "    <tr>\n",
       "      <th>1</th>\n",
       "      <td>14646.0</td>\n",
       "      <td>Netherlands</td>\n",
       "      <td>280206.02</td>\n",
       "    </tr>\n",
       "    <tr>\n",
       "      <th>2</th>\n",
       "      <td>18102.0</td>\n",
       "      <td>United Kingdom</td>\n",
       "      <td>259657.30</td>\n",
       "    </tr>\n",
       "    <tr>\n",
       "      <th>3</th>\n",
       "      <td>17450.0</td>\n",
       "      <td>United Kingdom</td>\n",
       "      <td>194390.79</td>\n",
       "    </tr>\n",
       "    <tr>\n",
       "      <th>4</th>\n",
       "      <td>16446.0</td>\n",
       "      <td>United Kingdom</td>\n",
       "      <td>168472.50</td>\n",
       "    </tr>\n",
       "    <tr>\n",
       "      <th>...</th>\n",
       "      <td>...</td>\n",
       "      <td>...</td>\n",
       "      <td>...</td>\n",
       "    </tr>\n",
       "    <tr>\n",
       "      <th>4351</th>\n",
       "      <td>17956.0</td>\n",
       "      <td>United Kingdom</td>\n",
       "      <td>12.75</td>\n",
       "    </tr>\n",
       "    <tr>\n",
       "      <th>4352</th>\n",
       "      <td>16454.0</td>\n",
       "      <td>United Kingdom</td>\n",
       "      <td>6.90</td>\n",
       "    </tr>\n",
       "    <tr>\n",
       "      <th>4353</th>\n",
       "      <td>14792.0</td>\n",
       "      <td>United Kingdom</td>\n",
       "      <td>6.20</td>\n",
       "    </tr>\n",
       "    <tr>\n",
       "      <th>4354</th>\n",
       "      <td>16738.0</td>\n",
       "      <td>United Kingdom</td>\n",
       "      <td>3.75</td>\n",
       "    </tr>\n",
       "    <tr>\n",
       "      <th>4355</th>\n",
       "      <td>13256.0</td>\n",
       "      <td>United Kingdom</td>\n",
       "      <td>0.00</td>\n",
       "    </tr>\n",
       "  </tbody>\n",
       "</table>\n",
       "<p>4356 rows × 3 columns</p>\n",
       "</div>"
      ],
      "text/plain": [
       "      CustomerID         Country        Sale\n",
       "0            0.0  United Kingdom  1716719.45\n",
       "1        14646.0     Netherlands   280206.02\n",
       "2        18102.0  United Kingdom   259657.30\n",
       "3        17450.0  United Kingdom   194390.79\n",
       "4        16446.0  United Kingdom   168472.50\n",
       "...          ...             ...         ...\n",
       "4351     17956.0  United Kingdom       12.75\n",
       "4352     16454.0  United Kingdom        6.90\n",
       "4353     14792.0  United Kingdom        6.20\n",
       "4354     16738.0  United Kingdom        3.75\n",
       "4355     13256.0  United Kingdom        0.00\n",
       "\n",
       "[4356 rows x 3 columns]"
      ]
     },
     "execution_count": 28,
     "metadata": {},
     "output_type": "execute_result"
    }
   ],
   "source": [
    "evaluate_customer_sale = df.groupby(by=['CustomerID','Country'])[['Sale']].sum().sort_values(by='Sale', ascending=False).reset_index()\n",
    "evaluate_customer_sale "
   ]
  },
  {
   "cell_type": "markdown",
   "id": "28c01e45",
   "metadata": {},
   "source": [
    "Calculate the percentage of revenue generated by top 10 customer to the total revenue"
   ]
  },
  {
   "cell_type": "code",
   "execution_count": 29,
   "id": "3bffd1fb",
   "metadata": {},
   "outputs": [
    {
     "data": {
      "text/plain": [
       "14.449567179459333"
      ]
     },
     "execution_count": 29,
     "metadata": {},
     "output_type": "execute_result"
    }
   ],
   "source": [
    "evaluate_customer_sale[1:11]['Sale'].sum()/evaluate_customer_sale['Sale'].sum() * 100"
   ]
  },
  {
   "cell_type": "code",
   "execution_count": 30,
   "id": "893b7d97",
   "metadata": {},
   "outputs": [
    {
     "data": {
      "text/html": [
       "<div>\n",
       "<style scoped>\n",
       "    .dataframe tbody tr th:only-of-type {\n",
       "        vertical-align: middle;\n",
       "    }\n",
       "\n",
       "    .dataframe tbody tr th {\n",
       "        vertical-align: top;\n",
       "    }\n",
       "\n",
       "    .dataframe thead th {\n",
       "        text-align: right;\n",
       "    }\n",
       "</style>\n",
       "<table border=\"1\" class=\"dataframe\">\n",
       "  <thead>\n",
       "    <tr style=\"text-align: right;\">\n",
       "      <th></th>\n",
       "      <th>CustomerID</th>\n",
       "      <th>InvoiceNo</th>\n",
       "      <th>Sale</th>\n",
       "    </tr>\n",
       "  </thead>\n",
       "  <tbody>\n",
       "    <tr>\n",
       "      <th>0</th>\n",
       "      <td>0.0</td>\n",
       "      <td>133320</td>\n",
       "      <td>1754901.91</td>\n",
       "    </tr>\n",
       "    <tr>\n",
       "      <th>1</th>\n",
       "      <td>17841.0</td>\n",
       "      <td>7676</td>\n",
       "      <td>40519.84</td>\n",
       "    </tr>\n",
       "    <tr>\n",
       "      <th>2</th>\n",
       "      <td>14911.0</td>\n",
       "      <td>5672</td>\n",
       "      <td>143711.17</td>\n",
       "    </tr>\n",
       "    <tr>\n",
       "      <th>3</th>\n",
       "      <td>14096.0</td>\n",
       "      <td>5111</td>\n",
       "      <td>65164.79</td>\n",
       "    </tr>\n",
       "    <tr>\n",
       "      <th>4</th>\n",
       "      <td>12748.0</td>\n",
       "      <td>4413</td>\n",
       "      <td>33053.19</td>\n",
       "    </tr>\n",
       "    <tr>\n",
       "      <th>...</th>\n",
       "      <td>...</td>\n",
       "      <td>...</td>\n",
       "      <td>...</td>\n",
       "    </tr>\n",
       "    <tr>\n",
       "      <th>4335</th>\n",
       "      <td>13185.0</td>\n",
       "      <td>1</td>\n",
       "      <td>71.40</td>\n",
       "    </tr>\n",
       "    <tr>\n",
       "      <th>4336</th>\n",
       "      <td>17331.0</td>\n",
       "      <td>1</td>\n",
       "      <td>175.20</td>\n",
       "    </tr>\n",
       "    <tr>\n",
       "      <th>4337</th>\n",
       "      <td>16881.0</td>\n",
       "      <td>1</td>\n",
       "      <td>432.00</td>\n",
       "    </tr>\n",
       "    <tr>\n",
       "      <th>4338</th>\n",
       "      <td>16323.0</td>\n",
       "      <td>1</td>\n",
       "      <td>207.50</td>\n",
       "    </tr>\n",
       "    <tr>\n",
       "      <th>4339</th>\n",
       "      <td>14576.0</td>\n",
       "      <td>1</td>\n",
       "      <td>35.40</td>\n",
       "    </tr>\n",
       "  </tbody>\n",
       "</table>\n",
       "<p>4340 rows × 3 columns</p>\n",
       "</div>"
      ],
      "text/plain": [
       "      CustomerID  InvoiceNo        Sale\n",
       "0            0.0     133320  1754901.91\n",
       "1        17841.0       7676    40519.84\n",
       "2        14911.0       5672   143711.17\n",
       "3        14096.0       5111    65164.79\n",
       "4        12748.0       4413    33053.19\n",
       "...          ...        ...         ...\n",
       "4335     13185.0          1       71.40\n",
       "4336     17331.0          1      175.20\n",
       "4337     16881.0          1      432.00\n",
       "4338     16323.0          1      207.50\n",
       "4339     14576.0          1       35.40\n",
       "\n",
       "[4340 rows x 3 columns]"
      ]
     },
     "execution_count": 30,
     "metadata": {},
     "output_type": "execute_result"
    }
   ],
   "source": [
    "repeating_customer = df.groupby('CustomerID').agg({'InvoiceNo':'count','Sale':'sum'}).sort_values(by='InvoiceNo', ascending=False).reset_index()\n",
    "repeating_customer"
   ]
  },
  {
   "cell_type": "markdown",
   "id": "2c6be983",
   "metadata": {},
   "source": [
    "There are 98% customers who order more than 1"
   ]
  },
  {
   "cell_type": "code",
   "execution_count": 31,
   "id": "3961e8e6",
   "metadata": {},
   "outputs": [
    {
     "data": {
      "text/plain": [
       "98.3410138248848"
      ]
     },
     "execution_count": 31,
     "metadata": {},
     "output_type": "execute_result"
    }
   ],
   "source": [
    "repeating_customer[repeating_customer['InvoiceNo']>1]['CustomerID'].count() / repeating_customer['InvoiceNo'].count() * 100"
   ]
  },
  {
   "cell_type": "code",
   "execution_count": 32,
   "id": "57c2587e",
   "metadata": {},
   "outputs": [
    {
     "data": {
      "text/plain": [
       "10543601.694000002"
      ]
     },
     "execution_count": 32,
     "metadata": {},
     "output_type": "execute_result"
    }
   ],
   "source": [
    "repeating_customer[repeating_customer['InvoiceNo']>1]['Sale'].sum()"
   ]
  },
  {
   "cell_type": "code",
   "execution_count": 33,
   "id": "263783fa",
   "metadata": {},
   "outputs": [
    {
     "data": {
      "text/plain": [
       "99.07948393253812"
      ]
     },
     "execution_count": 33,
     "metadata": {},
     "output_type": "execute_result"
    }
   ],
   "source": [
    "repeating_customer[repeating_customer['InvoiceNo']>1]['Sale'].sum() / repeating_customer['Sale'].sum() * 100"
   ]
  },
  {
   "cell_type": "markdown",
   "id": "4588c0dd",
   "metadata": {},
   "source": [
    "# Conclusion\n",
    "**1. Which region is generating the highest revenue, and which region is generating the lowest?**\n",
    "- Highest:- United Kingdom\n",
    "- Lowerst:- Saudi Arabia\n",
    "\n",
    "**2. What is the monthly trend of revenue, which months have faced the biggest increase/decrease?**\n",
    "- Decrease: December 2011 (57.5%)\n",
    "\n",
    "**3. Which months generated the most revenue? Is there a seasonality in sales?**\n",
    "- November before Festive season\n",
    "\n",
    "**4. Who are the top customers and how much do they contribute to the total revenue? Is the business dependent on these customers or is the customer base diversified?**\n",
    "- Top customers are from Netherland and united kingdom. \n",
    "- The top 10 cutomers contributes 14.47% of the total revenue. Hence, we can say that customer base diversified.\n",
    "\n",
    "**5. What is the percentage of customers who are repeating their orders?**\n",
    "- 98% customers repeating their orders\n",
    "\n",
    "**6. What are the most popular products in terms of quantity sold out?** \n",
    "- PAPER CRAFT , LITTLE BIRDIE (80995 qunatity to be sold)\n",
    "\n",
    "**7. What is the most popular product based on sales (amount)?**\n",
    "- DOTCOM POSTAGE(206248.77 dollar)\n",
    "\n",
    "**8. Which customers spend the most?**\n",
    "- Customer from Netherlands with customerID 14646.0 spent $280206.02\n",
    "\n",
    "**9. What revenue is being generated from the customers who have ordered more than once?**\n",
    "- 99% revenue i.e 10543601.69 dollar is being generated from the customers who have ordered more than once"
   ]
  },
  {
   "cell_type": "code",
   "execution_count": null,
   "id": "0327e366",
   "metadata": {},
   "outputs": [],
   "source": []
  }
 ],
 "metadata": {
  "kernelspec": {
   "display_name": "Python 3 (ipykernel)",
   "language": "python",
   "name": "python3"
  },
  "language_info": {
   "codemirror_mode": {
    "name": "ipython",
    "version": 3
   },
   "file_extension": ".py",
   "mimetype": "text/x-python",
   "name": "python",
   "nbconvert_exporter": "python",
   "pygments_lexer": "ipython3",
   "version": "3.9.12"
  }
 },
 "nbformat": 4,
 "nbformat_minor": 5
}
